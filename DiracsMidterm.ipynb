{
 "cells": [
  {
   "cell_type": "markdown",
   "metadata": {},
   "source": [
    "# Dr. Dirac's Statistics Midterm\n",
    "\n",
    "Grading a multiple choice exam is easy. But how much does it tell us about what a student really knows? Dr. Dirac is giving a statistics midterm and wants to use Bayes' Theorem to help him understand how likely that a student really understands the material given that she has gotten a particular question correct.\n",
    "\n",
    "Dr. Dirac knows the following probabilities based on many years of teaching:\n",
    "1. There is a problem that 60% of students know the correct answer\n",
    "2. Given that a student knows the correct answer, there is still a 15% chance that a student picked the wrong answer\n",
    "3. Given that a student does not know the answer, there is still a 20% chance that the student picks the correct answer by guessing\n",
    "\n",
    "Eventually, we will answer the following question:\n",
    "\n",
    "*Given that a student answered a question correctly, what is the probability that she really knows the material?*"
   ]
  },
  {
   "cell_type": "markdown",
   "metadata": {},
   "source": [
    "### Bayes Theorem on a Statistics Final"
   ]
  },
  {
   "cell_type": "markdown",
   "metadata": {},
   "source": [
    "1.\n",
    "In order to use Bayes Theorem, we need to phrase our question as P(A|B). What is A and B in this case?"
   ]
  },
  {
   "cell_type": "markdown",
   "metadata": {},
   "source": [
    "##### Hint: P(knows the material | answers correctly)"
   ]
  },
  {
   "cell_type": "code",
   "execution_count": 1,
   "metadata": {},
   "outputs": [],
   "source": [
    "a = 'student knows the material'\n",
    "b = 'student answered correctly'"
   ]
  },
  {
   "cell_type": "markdown",
   "metadata": {},
   "source": [
    "2.\n",
    "What is the probability that the student knows the material?"
   ]
  },
  {
   "cell_type": "markdown",
   "metadata": {},
   "source": [
    "##### Hint: P(knows the material) = 0.60"
   ]
  },
  {
   "cell_type": "code",
   "execution_count": 2,
   "metadata": {},
   "outputs": [],
   "source": [
    "# from information above\n",
    "p_knows_material = 0.6"
   ]
  },
  {
   "cell_type": "markdown",
   "metadata": {},
   "source": [
    "3.\n",
    "Given that the student knows the material, what is the probability that she answers correctly?"
   ]
  },
  {
   "cell_type": "markdown",
   "metadata": {},
   "source": [
    "##### Hint: P(answers correctly | knows material) = 1 - 0.15"
   ]
  },
  {
   "cell_type": "code",
   "execution_count": 3,
   "metadata": {},
   "outputs": [],
   "source": [
    "# from information above\n",
    "p_correct_given_knows = 0.85"
   ]
  },
  {
   "cell_type": "markdown",
   "metadata": {},
   "source": [
    "4.\n",
    "What is the probability of any student answering correctly?"
   ]
  },
  {
   "cell_type": "markdown",
   "metadata": {},
   "source": [
    "##### Hint: The probability of answering correctly is equal to the weighted average of P(answers correctly | knows material) and P(answers correctly| does not know material). You were given both of these probabilities (1 - 0.15 and 0.25, respectively). How can you calculate the weights?"
   ]
  },
  {
   "cell_type": "code",
   "execution_count": 4,
   "metadata": {},
   "outputs": [],
   "source": [
    "p_correct = (0.85 * 0.6) + (0.2 * 0.4)"
   ]
  },
  {
   "cell_type": "markdown",
   "metadata": {},
   "source": [
    "5.\n",
    "Using the three probabilities and Bayes Theorem, calculate P(knows material | answers correctly)."
   ]
  },
  {
   "cell_type": "code",
   "execution_count": 5,
   "metadata": {},
   "outputs": [
    {
     "name": "stdout",
     "output_type": "stream",
     "text": [
      "0.8644067796610169\n"
     ]
    }
   ],
   "source": [
    "p_knows_given_correct = (p_correct_given_knows * 0.6 ) / p_correct\n",
    "print(p_knows_given_correct)"
   ]
  }
 ],
 "metadata": {
  "kernelspec": {
   "display_name": "Python 3",
   "language": "python",
   "name": "python3"
  },
  "language_info": {
   "codemirror_mode": {
    "name": "ipython",
    "version": 3
   },
   "file_extension": ".py",
   "mimetype": "text/x-python",
   "name": "python",
   "nbconvert_exporter": "python",
   "pygments_lexer": "ipython3",
   "version": "3.6.4"
  }
 },
 "nbformat": 4,
 "nbformat_minor": 2
}
